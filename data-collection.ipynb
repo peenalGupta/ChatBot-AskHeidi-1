{
 "cells": [
  {
   "cell_type": "code",
   "execution_count": 1,
   "metadata": {},
   "outputs": [
    {
     "name": "stdout",
     "output_type": "stream",
     "text": [
      "^C\n"
     ]
    }
   ],
   "source": [
    "# !pip install -q langchain playwright beautifulsoup4 html2text"
   ]
  },
  {
   "cell_type": "code",
   "execution_count": null,
   "metadata": {},
   "outputs": [],
   "source": [
    "# !pip install -U selenium unstructured"
   ]
  },
  {
   "cell_type": "code",
   "execution_count": 74,
   "metadata": {},
   "outputs": [
    {
     "name": "stderr",
     "output_type": "stream",
     "text": [
      "[nltk_data] Downloading package punkt to\n",
      "[nltk_data]     C:\\Users\\peena\\AppData\\Roaming\\nltk_data...\n",
      "[nltk_data]   Package punkt is already up-to-date!\n",
      "[nltk_data] Downloading package stopwords to\n",
      "[nltk_data]     C:\\Users\\peena\\AppData\\Roaming\\nltk_data...\n",
      "[nltk_data]   Package stopwords is already up-to-date!\n",
      "[nltk_data] Downloading package wordnet to\n",
      "[nltk_data]     C:\\Users\\peena\\AppData\\Roaming\\nltk_data...\n",
      "[nltk_data]   Package wordnet is already up-to-date!\n"
     ]
    },
    {
     "data": {
      "text/plain": [
       "True"
      ]
     },
     "execution_count": 74,
     "metadata": {},
     "output_type": "execute_result"
    }
   ],
   "source": [
    "#import required libraries\n",
    "import html2text\n",
    "from langchain.document_loaders import AsyncHtmlLoader\n",
    "from langchain.document_transformers import Html2TextTransformer\n",
    "import nltk\n",
    "from nltk.corpus import stopwords\n",
    "from nltk.tokenize import word_tokenize, sent_tokenize\n",
    "from nltk.stem import WordNetLemmatizer\n",
    "from langchain_community.document_loaders import SeleniumURLLoader\n",
    "\n",
    "# Download necessary NLTK resources\n",
    "nltk.download('punkt')\n",
    "nltk.download('stopwords')\n",
    "nltk.download('wordnet')"
   ]
  },
  {
   "cell_type": "code",
   "execution_count": 75,
   "metadata": {},
   "outputs": [],
   "source": [
    "#function to do scrapping of the websites\n",
    "async def do_webscraping(link):\n",
    "    try:\n",
    "        urls = [link]\n",
    "        loader = AsyncHtmlLoader(urls)\n",
    "        docs = loader.load()\n",
    "\n",
    "        html2text_transformer = Html2TextTransformer()\n",
    "        docs_transformed = html2text_transformer.transform_documents(docs)\n",
    "\n",
    "        print(\"Length : \", len(docs_transformed))\n",
    "        if docs_transformed != None and len(docs_transformed) > 0:\n",
    "            metadata = docs_transformed[0].metadata\n",
    "            title = metadata.get('title', '')\n",
    "            return {\n",
    "                'summary': docs_transformed[0].page_content,\n",
    "                'title': title,\n",
    "                'metadata': metadata,\n",
    "                'clean_content': html2text.html2text(docs_transformed[0].page_content)\n",
    "            }\n",
    "        else:\n",
    "            return None\n",
    "\n",
    "    except Exception as e:\n",
    "        print(f\"An unexpected error occurred: {e}\")\n",
    "        return None"
   ]
  },
  {
   "cell_type": "code",
   "execution_count": 76,
   "metadata": {},
   "outputs": [],
   "source": [
    "def preprocess_text(text):\n",
    "    # Convert to lowercase\n",
    "    text = text.lower()\n",
    "    \n",
    "    # Tokenize into sentences\n",
    "    sentences = sent_tokenize(text)\n",
    "    \n",
    "    # Initialize the WordNet lemmatizer\n",
    "    lemmatizer = WordNetLemmatizer()\n",
    "    \n",
    "    # Stop words set\n",
    "    stop_words = set(stopwords.words('english'))\n",
    "    \n",
    "    processed_text = []\n",
    "\n",
    "    # Process each sentence\n",
    "    for sentence in sentences:\n",
    "        # Tokenize sentence into words\n",
    "        words = word_tokenize(sentence)\n",
    "        \n",
    "        # Lemmatize, remove stop words and non-alphabetic characters\n",
    "        lemmatized = [lemmatizer.lemmatize(word) for word in words if word.isalpha() and word not in stop_words]\n",
    "        \n",
    "        processed_text.append(' '.join(lemmatized))\n",
    "    \n",
    "    return processed_text\n"
   ]
  },
  {
   "cell_type": "code",
   "execution_count": 127,
   "metadata": {},
   "outputs": [],
   "source": [
    "# function to save the text scrapped into a text file\n",
    "def string_to_text_file(input_string, filename):\n",
    "    \"\"\"\n",
    "    Writes a given string to a text file.\n",
    "\n",
    "    :param input_string: str - The string to write to the file.\n",
    "    :param filename: str - The name of the file to which the string will be written.\n",
    "    \"\"\"\n",
    "    # Open the file in write mode ('w'). If the file doesn't exist, it will be created.\n",
    "    with open(filename, 'w', encoding='utf-8') as file:\n",
    "        file.write(input_string)\n",
    "    # Open a text file for writing\n",
    "    # with open(filename, 'w') as file:\n",
    "    #     for string in input_string:\n",
    "    #         file.write(string + '\\n')\n"
   ]
  },
  {
   "cell_type": "code",
   "execution_count": 118,
   "metadata": {},
   "outputs": [],
   "source": [
    "def load_data_from_selenium(urls):\n",
    "    # datas = []\n",
    "    loader = SeleniumURLLoader(urls=urls)\n",
    "    data = loader.load()\n",
    "    # #pre process data before saving to the file\n",
    "    # preprocessed_data = preprocess_text(data[0].page_content)\n",
    "    \n",
    "    # filename = './data/' + urls.split(\"/\")[-2] + '.txt'    \n",
    "    # #save processed data to text file\n",
    "    # string_to_text_file(preprocessed_data, filename)\n",
    "    return data"
   ]
  },
  {
   "cell_type": "code",
   "execution_count": null,
   "metadata": {},
   "outputs": [],
   "source": [
    "# links = ['https://www.srh-hochschule-heidelberg.de/en/why-srh/accreditation-and-rankings/','https://www.srh-hochschule-heidelberg.de/en/landingpage/dual-degrees/']\n",
    "# #                          ,\n",
    "# #  'https://www.srh-hochschule-heidelberg.de/en/master/applied-data-science-and-analytics/',\n",
    "# #  'https://www.srh-hochschule-heidelberg.de/en/master/artificial-intelligence/']"
   ]
  },
  {
   "cell_type": "code",
   "execution_count": 122,
   "metadata": {},
   "outputs": [],
   "source": [
    "# links = [\"https://www.srh-hochschule-heidelberg.de/en/bachelor/study-international-business/international-business/\",\n",
    "# \"https://www.srh-hochschule-heidelberg.de/en/landingpage/dual-degrees/\",\n",
    "# \"https://www.srh-hochschule-heidelberg.de/en/bachelor/electrical-engineering/\",\n",
    "# \"https://www.srh-hochschule-heidelberg.de/en/bachelor/business-engineering/\",\n",
    "# \"https://www.srh-hochschule-heidelberg.de/en/bachelor/mechanical-engineering/\"\n",
    "# \"https://www.srh-hochschule-heidelberg.de/en/study-at-srh/study-in-germany/\",\n",
    "# \"https://www.srh-hochschule-heidelberg.de/en/study-at-srh/financing-your-studies/\",\n",
    "# \"https://www.srh-hochschule-heidelberg.de/en/study-at-srh/applications-and-admissions/\",\n",
    "# \"https://www.srh-hochschule-heidelberg.de/en/study-at-srh/eat-live-and-learn-on-campus/accommodation/\"\n",
    "# ]"
   ]
  },
  {
   "cell_type": "code",
   "execution_count": 129,
   "metadata": {},
   "outputs": [],
   "source": [
    "links = [\n",
    "    \"https://www.srh-hochschule-heidelberg.de/en/master/artificial-intelligence/\",\n",
    "    \"https://www.srh-hochschule-heidelberg.de/en/master/applied-computer-science/\",\n",
    "    \"https://www.srh-hochschule-heidelberg.de/en/master/applied-data-science-and-analytics/\",\n",
    "    \"https://www.srh-hochschule-heidelberg.de/en/master/blockchain-technology/\"\n",
    "]"
   ]
  },
  {
   "cell_type": "code",
   "execution_count": 130,
   "metadata": {},
   "outputs": [
    {
     "name": "stdout",
     "output_type": "stream",
     "text": [
      "The string has been successfully written to ./data/artificial-intelligence.txt\n",
      "The string has been successfully written to ./data/applied-computer-science.txt\n",
      "The string has been successfully written to ./data/applied-data-science-and-analytics.txt\n",
      "The string has been successfully written to ./data/blockchain-technology.txt\n"
     ]
    }
   ],
   "source": [
    "link_url = []\n",
    "for link in links: \n",
    "        link_url.append(link)\n",
    "        loader = SeleniumURLLoader(urls=links)\n",
    "        data = loader.load()\n",
    "        #   response =  load_data_from_selenium(link)\n",
    "        if data != None:\n",
    "            filename = './data/' + link.split(\"/\")[-2] + '.txt'   \n",
    "            # filename = './data/bachelor.txt'    \n",
    "            # print(text.page_content.tostring())\n",
    "            # send the data to text preprocessing for cleaning up\n",
    "            # preprocessed_data = preprocess_text(data[0].page_content)\n",
    "            string_to_text_file(data[0].page_content, filename)\n",
    "            print(\"The string has been successfully written to\", filename)"
   ]
  },
  {
   "cell_type": "code",
   "execution_count": 111,
   "metadata": {},
   "outputs": [
    {
     "data": {
      "text/plain": [
       "\"Bachelor\\n\\nInternational Business\\n\\nBachelor of Arts (B.A.)\\n\\n6 Semesters\\n\\nFull time\\n\\n180 ECTS\\n\\n€750/Month\\n\\nEnglish\\n\\nonly winter semester\\n\\nDo you feel at home in the world? The global perspective of the Bachelor's degree in International Business opens up international career opportunities.\\n\\nEnglish\\n\\nwinter semester\\n\\nstay abroad\\n\\nRequest information\\n\\nApply now\\n\\nHeidelberg, Fakultät für\\n\\t\\t\\t\\t\\t\\t\\t\\t\\t\\n\\t\\t\\t\\t\\t\\t\\t\\t\\t\\n\\t\\t\\t\\t\\t\\t\\t\\t\\t\\tWirtschaft\\n\\nYour course content\\n\\nWhat you will learn\\n\\nOur degree programme International Business in Germany offers not only the content comparable to the German bachelor programme but on top provides you with intercultural competences, and precious experiences abroad: Your semester abroad will not only boost your foreign language(s) – for many students it is an experience echoing throughout their whole life. At times, important networks and contacts are built which are valuable for your future career. The integrated semester abroad at one of our partnering universities also offers you a very wide range of interesting topics to specialize in the academic area of your interest.\\n\\nYour course content in detail\\n\\nNowadays, an international and border-crossing mindset already constitutes an important qualification in its own right, and is highly valued in the job market. Students who understand different cultures, have a more inclusive mindset, and are aware of diverse business practices are highly sought-after. Our International Business Bachelor's degree program supports this by offering modules such as, for example\\n\\nMarketing\\n\\nHuman Resources Management\\n\\nInternational\\xa0Accounting\\n\\nInternational\\xa0Law\\n\\nOperations Management\\n\\nInternational Taxation\\n\\nStudents showing an outstanding performance, willing to go the extra mile, and interested in gaining a second Bachelor's degree simultaneously (in addition to the one at SRH), have the chance to enroll in one of our Dual Degree programs. Did we catch your attention? Get more information!\\n\\nYour career prospects\\n\\nOur innovative approach that pays off\\n\\nBy completing this programme, you will acquire the qualifications required to gain a foothold in industrial or service companies, both at home and abroad. You will then be able to work in areas such as human resources, marketing and sales or corporate communications. Alternative career paths include market research institutes, advertising agencies, consultancies, tax and audit firms, banks and insurance companies.\\n\\nYour prospects in detail\\n\\nAfter completing your degree, the whole world will be open to you: as a graduate of the Bachelor’s programme in International Business, you will be internationally mobile and able to deal with the challenges of a globalised economy. Your international use of intercultural and language skills rounds off your profile, making you even more attractive on the job market.\\n\\nFind your unibuddy.\\n\\nDo you want first-hand information? Our students are happy to share their experiences with you, tell you about their courses, their projects and student life in Heidelberg.\\n\\nFind your unibuddy\\n\\nAcademic Events\\n\\nSRH Universities Campus Heidelberg International Week 2024: Future Skills for Global Citizens\\n\\n07.10.\\xa0-\\xa0\\n                                    11.10.2024\\n\\nFor our 14th SRH International Week we are excited to welcome our partners, and their students, back on Campus Heidelberg. Save the date and join us from 7th – 11th October 2024!\\n\\nEvent\\n\\nCurriculum International Business (B.A.)\\n\\nYour curriculum\\n\\n6 Semester\\n\\n180 ECTS\\n\\n1. Semester\\n\\n32\\n\\n1. Semester\\n\\nBusiness Administration I\\n\\t\\t\\t\\t\\t\\t\\t\\t\\t\\t\\t\\t\\n\\t\\t\\t\\t\\t\\t\\t\\t\\t\\t\\t\\t\\t8\\n\\nBusiness Administration II\\n\\t\\t\\t\\t\\t\\t\\t\\t\\t\\t\\t\\t\\n\\t\\t\\t\\t\\t\\t\\t\\t\\t\\t\\t\\t\\t6\\n\\nHuman Resources\\n\\t\\t\\t\\t\\t\\t\\t\\t\\t\\t\\t\\t\\n\\t\\t\\t\\t\\t\\t\\t\\t\\t\\t\\t\\t\\t6\\n\\nMarketing\\n\\t\\t\\t\\t\\t\\t\\t\\t\\t\\t\\t\\t\\n\\t\\t\\t\\t\\t\\t\\t\\t\\t\\t\\t\\t\\t6\\n\\nSkills and Tools\\n\\t\\t\\t\\t\\t\\t\\t\\t\\t\\t\\t\\t\\n\\t\\t\\t\\t\\t\\t\\t\\t\\t\\t\\t\\t\\t6\\n\\n2. Semester\\n\\n28\\n\\n2. Semester\\n\\nOperations Management\\n\\t\\t\\t\\t\\t\\t\\t\\t\\t\\t\\t\\t\\n\\t\\t\\t\\t\\t\\t\\t\\t\\t\\t\\t\\t\\t6\\n\\nInternational Law\\n\\t\\t\\t\\t\\t\\t\\t\\t\\t\\t\\t\\t\\n\\t\\t\\t\\t\\t\\t\\t\\t\\t\\t\\t\\t\\t6\\n\\nIntroduction to Accounting\\n\\t\\t\\t\\t\\t\\t\\t\\t\\t\\t\\t\\t\\n\\t\\t\\t\\t\\t\\t\\t\\t\\t\\t\\t\\t\\t6\\n\\nApplied Business Mathematics\\n\\t\\t\\t\\t\\t\\t\\t\\t\\t\\t\\t\\t\\n\\t\\t\\t\\t\\t\\t\\t\\t\\t\\t\\t\\t\\t6\\n\\nBusiness Simulation\\n\\t\\t\\t\\t\\t\\t\\t\\t\\t\\t\\t\\t\\n\\t\\t\\t\\t\\t\\t\\t\\t\\t\\t\\t\\t\\t4\\n\\n3. Semester\\n\\n32\\n\\n3. Semester\\n\\nMacroeconomics\\n\\t\\t\\t\\t\\t\\t\\t\\t\\t\\t\\t\\t\\n\\t\\t\\t\\t\\t\\t\\t\\t\\t\\t\\t\\t\\t8\\n\\nInternational Accounting\\n\\t\\t\\t\\t\\t\\t\\t\\t\\t\\t\\t\\t\\n\\t\\t\\t\\t\\t\\t\\t\\t\\t\\t\\t\\t\\t6\\n\\nSales\\n\\t\\t\\t\\t\\t\\t\\t\\t\\t\\t\\t\\t\\n\\t\\t\\t\\t\\t\\t\\t\\t\\t\\t\\t\\t\\t6\\n\\nCost and Performance Accounting\\n\\t\\t\\t\\t\\t\\t\\t\\t\\t\\t\\t\\t\\n\\t\\t\\t\\t\\t\\t\\t\\t\\t\\t\\t\\t\\t6\\n\\nMicroeconomics\\n\\t\\t\\t\\t\\t\\t\\t\\t\\t\\t\\t\\t\\n\\t\\t\\t\\t\\t\\t\\t\\t\\t\\t\\t\\t\\t4\\n\\n4. Semester\\n\\n28\\n\\n4. Semester\\n\\nCorporate Finance\\n\\t\\t\\t\\t\\t\\t\\t\\t\\t\\t\\t\\t\\n\\t\\t\\t\\t\\t\\t\\t\\t\\t\\t\\t\\t\\t6\\n\\nInternational Taxation\\n\\t\\t\\t\\t\\t\\t\\t\\t\\t\\t\\t\\t\\n\\t\\t\\t\\t\\t\\t\\t\\t\\t\\t\\t\\t\\t6\\n\\nManagement Information Systems\\n\\t\\t\\t\\t\\t\\t\\t\\t\\t\\t\\t\\t\\n\\t\\t\\t\\t\\t\\t\\t\\t\\t\\t\\t\\t\\t6\\n\\nStatistics\\n\\t\\t\\t\\t\\t\\t\\t\\t\\t\\t\\t\\t\\n\\t\\t\\t\\t\\t\\t\\t\\t\\t\\t\\t\\t\\t6\\n\\nEntrepreneurship\\n\\t\\t\\t\\t\\t\\t\\t\\t\\t\\t\\t\\t\\n\\t\\t\\t\\t\\t\\t\\t\\t\\t\\t\\t\\t\\t4\\n\\n5. Semester\\n\\n32\\n\\n5. Semester\\n\\nStrategic Management\\n\\t\\t\\t\\t\\t\\t\\t\\t\\t\\t\\t\\t\\n\\t\\t\\t\\t\\t\\t\\t\\t\\t\\t\\t\\t\\t8\\n\\nStudy Abroad\\n\\t\\t\\t\\t\\t\\t\\t\\t\\t\\t\\t\\t\\n\\t\\t\\t\\t\\t\\t\\t\\t\\t\\t\\t\\t\\t16\\n\\nInternship\\n\\t\\t\\t\\t\\t\\t\\t\\t\\t\\t\\t\\t\\n\\t\\t\\t\\t\\t\\t\\t\\t\\t\\t\\t\\t\\t8\\n\\n6. Semester\\n\\n28\\n\\n6. Semester\\n\\nInternship\\n\\t\\t\\t\\t\\t\\t\\t\\t\\t\\t\\t\\t\\n\\t\\t\\t\\t\\t\\t\\t\\t\\t\\t\\t\\t\\t16\\n\\nThesis\\n\\t\\t\\t\\t\\t\\t\\t\\t\\t\\t\\t\\t\\n\\t\\t\\t\\t\\t\\t\\t\\t\\t\\t\\t\\t\\t12\\n\\nDownload\\n\\nOur partner universities\\n\\nSchool of Business\\n                    \\n            \\n            \\n                \\n                (177 KB)\\n\\nYour lecturers\\n\\nWe help you achieve your goals\\n\\nProf. Dr. Carsten Held\\n            \\n            \\n                \\n                        \\n                            Professor\\n\\nProf. Dr. Frank Gebert\\n            \\n            \\n                \\n                        \\n                            Professor\\n\\nProf. Dr. Stephan Oliver Pfaff\\n            \\n            \\n                \\n                        \\n                            Professor\\n\\nProf. Dr. habil. Stephan Schöning\\n            \\n            \\n                \\n                        \\n                            Professor\\n\\nProf. Dr. Laurence A. Welford\\n            \\n            \\n                \\n                        \\n                            Professor\\n\\nAdmission requirements\\n\\nOur requirements\\n\\nYou can be admitted to study at SRH University Heidelberg if\\n\\nyou have a general higher education entrance certificate (Abitur), a subject-specific higher education entrance qualification (fachgebundenes Abitur) or an entrance qualification for studies at universities of applied sciences (Fachhochschulreife),\\n\\nor you can demonstrate at least two years of vocational training and a minimum of three years’ professional experience, and have passed an aptitude test,\\n\\nand you have additionally passed our selection process.\\n\\nEnglish language proficiency:\\n\\nIELTS 6.5\\n\\nTOEFL 80\\n\\nDuolingo Certificate 110\\n\\nPTE Academics 58\\n\\nor a comparable test\\n\\nYou do not qualify? No problem, SRH has its International College for students who do not qualify for direct entry into our programmes or need to bring up their English language level. You can choose from our Foundation programmes at the College. This is a direct pathway into our university. Find more about here .\\xa0https://www.srh-international-college.de/\\n\\nFees and Funding\\n\\nYour tuition fees\\n\\n750 EUR per month full-time + one-time registration fee of 750 EUR (Prices apply only to students from the European Economic Area).\\n\\nApplicants from Non-EEA countries without permanent residence permit need to pay a tuition fee of 5,100 EUR per semester + one-time registration fee of 1,000 EUR and must pay the tuition fees for one semester in advance. From the second semester onwards the payments for the remaining semesters of study are due six weeks before the end of the period of study already paid for. The payments have to be done semesterwise.\\n\\nFor more information and payment modalities, please refer to the current\\xa0fee schedules\\xa0(valid from 01.04.2023):\\n\\nFees schedule EEA students\\n\\nFees schedule non-EEA students\\n\\nApply now\\n\\nApplication process and deadlines\\n\\nWe look forward to welcoming you to SRH University Heidelberg very soon.\\n\\nThere are no closing dates for application at our University. This is the application process:\\n\\nIf you’re interested in our Bachelor’s programme, simply send us your application online.\\n\\nIf you encounter technical difficulties with the online application or have any questions about your application, your contact person Sarah Grabe\\xa0will be happy to help you.\\n\\nIf you meet the admission requirements, we’ll invite you to a selection interview\\n\\nIf you pass the selection interview, we’ll send you the acceptance letter and the study contract\\n\\nYou then sign the study contract and return it to us\\n\\nYou pay the registration fee\\n\\nIf you come from a non-EU country, you will pay your tuition fee one semester\\xa0in advance in addition to the registration fee. From the second semester onwards the payments for the remaining semesters of study are due six weeks before the end of the period of study already paid for.\\n\\nWe then issue your letter of acceptance\\n\\nYou take part in our Welcome Days – and then embark on your degree programme!\\n\\nAPS Certificate\\n\\nPlease note that special conditions apply to applicants from some countries:\\n\\nIndia\\n\\nFrom 1st of November 2022, applicants from India will be required to have their documents verified by the Academic Evaluation Centre New Delhi (APS-India) before applying for a visa. After successful verification you will receive a certificate which allows you to initiate the visa process. Please note that the verification process at APS-India is expected to take approximately 4 weeks. We recommend that you apply for the APS certificate at the same time as you apply to SRH University Heidelberg. For more information, go to the APS-India website: www.aps-india.de\\n\\nThe People’s Republic of China\\n\\nThe procedure of the Academic Evaluation Centre of the Cultural Section at the German Embassy in Bejing (Akademische Prüfstelle – APS) must have been successfully completed before you apply. The centre checks documents for authenticity and conducts interviews. The original APS certificate must be enclosed with the application documents. For more information, go to the APS website at: www.aps.org.cn.\\n\\nPlease note that you don’t need to complete the APS procedure if you apply for our 3+1 programmes.\\n\\nVietnam\\n\\nThe Academic Evaluation Centre of the German Embassy in Hanoi has been checking the university entrance qualifications of Vietnamese applicants since 2007. The procedure includes checking the submitted written documents as well as an interview with the applicant. An original copy of proof of successful completion of this process, the APS certificate, must be enclosed with the application documents.\\n\\nYour way into the future\\n\\nApply here\\n\\nYour contact\\n\\nIf you have any questions, our team is happy to help you\\n\\nYour contact\\n                                            \\n                                        \\n                                \\n                            \\n                        \\n                    \\n                \\n\\n            \\n                 Sandra Kineton\\n            \\n            \\n                \\n                        \\n                            Study Programme Director\\n\\nStudy Programme Director\\n                                            \\n                                        \\n                                \\n                            \\n                        \\n                    \\n                \\n\\n            \\n                Prof. Dr. Stefanie A. Schubert\\n            \\n            \\n                \\n                        \\n                            Professor\""
      ]
     },
     "execution_count": 111,
     "metadata": {},
     "output_type": "execute_result"
    }
   ],
   "source": [
    "data[0].page_content"
   ]
  },
  {
   "cell_type": "code",
   "execution_count": null,
   "metadata": {},
   "outputs": [],
   "source": [
    "# for link in links:\n",
    "#   print(link)\n",
    "#   response = await do_webscraping(link)\n",
    "#   if response != None:\n",
    "#     structured_response.append(response)# Call the function to write the string to the text file\n",
    "#     filename = './data/' + link.split(\"/\")[-2] + '.txt'    \n",
    "    \n",
    "    \n",
    "#     #send the data to text preprocessing for cleaning up\n",
    "#     preprocessed_data = preprocess_text(structured_response[0]['clean_content'])\n",
    "#     string_to_text_file(preprocessed_data, filename)\n",
    "#     print(\"The string has been successfully written to\", filename)"
   ]
  },
  {
   "cell_type": "code",
   "execution_count": 100,
   "metadata": {},
   "outputs": [],
   "source": [
    "# from langchain_community.document_loaders import SeleniumURLLoader\n",
    "\n",
    "# urls = [\n",
    "#     \"https://www.youtube.com/watch?v=dQw4w9WgXcQ\",\n",
    "#     \"https://goo.gl/maps/NDSHwePEyaHMFGwh8\",\n",
    "# ]\n",
    "\n",
    "# loader = SeleniumURLLoader(urls=urls)\n",
    "\n",
    "# data = loader.load()"
   ]
  }
 ],
 "metadata": {
  "kernelspec": {
   "display_name": "Python 3",
   "language": "python",
   "name": "python3"
  },
  "language_info": {
   "codemirror_mode": {
    "name": "ipython",
    "version": 3
   },
   "file_extension": ".py",
   "mimetype": "text/x-python",
   "name": "python",
   "nbconvert_exporter": "python",
   "pygments_lexer": "ipython3",
   "version": "3.12.0"
  }
 },
 "nbformat": 4,
 "nbformat_minor": 2
}
